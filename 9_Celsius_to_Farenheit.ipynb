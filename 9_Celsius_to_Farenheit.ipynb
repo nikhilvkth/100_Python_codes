{
  "nbformat": 4,
  "nbformat_minor": 0,
  "metadata": {
    "colab": {
      "provenance": [],
      "authorship_tag": "ABX9TyOhPHYG6HjPnT6+EfRw0SiI",
      "include_colab_link": true
    },
    "kernelspec": {
      "name": "python3",
      "display_name": "Python 3"
    },
    "language_info": {
      "name": "python"
    }
  },
  "cells": [
    {
      "cell_type": "markdown",
      "metadata": {
        "id": "view-in-github",
        "colab_type": "text"
      },
      "source": [
        "<a href=\"https://colab.research.google.com/github/nikhilvkth/100_Python_codes/blob/main/9_Celsius_to_Farenheit.ipynb\" target=\"_parent\"><img src=\"https://colab.research.google.com/assets/colab-badge.svg\" alt=\"Open In Colab\"/></a>"
      ]
    },
    {
      "cell_type": "code",
      "execution_count": 3,
      "metadata": {
        "colab": {
          "base_uri": "https://localhost:8080/"
        },
        "id": "1bvSRPbpoYcw",
        "outputId": "42739ccd-6cf4-4410-c944-594945a1e47e"
      },
      "outputs": [
        {
          "output_type": "stream",
          "name": "stdout",
          "text": [
            "enter the input36\n",
            "The Farenheit equivalent of 36.0 degree celsius is 96.8\n"
          ]
        }
      ],
      "source": [
        "#fahrenheit = celsius * 1.8 + 32\n",
        "\n",
        "celsius = float(input(\"enter the input\"))\n",
        "fahrenheit = celsius * 1.8 + 32\n",
        "\n",
        "print(\"The Farenheit equivalent of {} degree celsius is {}\".format(celsius, fahrenheit))"
      
      ]
    }
  ]
}
