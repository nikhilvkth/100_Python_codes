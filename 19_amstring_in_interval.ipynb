{
  "nbformat": 4,
  "nbformat_minor": 0,
  "metadata": {
    "colab": {
      "provenance": [],
      "authorship_tag": "ABX9TyMiPdgECiyVhG6onGSPWhfd",
      "include_colab_link": true
    },
    "kernelspec": {
      "name": "python3",
      "display_name": "Python 3"
    },
    "language_info": {
      "name": "python"
    }
  },
  "cells": [
    {
      "cell_type": "markdown",
      "metadata": {
        "id": "view-in-github",
        "colab_type": "text"
      },
      "source": [
        "<a href=\"https://colab.research.google.com/github/nikhilvkth/100_Python_codes/blob/main/19_amstring_in_interval.ipynb\" target=\"_parent\"><img src=\"https://colab.research.google.com/assets/colab-badge.svg\" alt=\"Open In Colab\"/></a>"
      ]
    },
    {
      "cell_type": "code",
      "execution_count": null,
      "metadata": {
        "id": "lLYLahuwvbpb"
      },
      "outputs": [],
      "source": [
        "#amstrong number in interval\n",
        "\n",
        "num1 = int(input(\"enter the start\"))\n",
        "num2 = int(input(\"enter the end\"))\n",
        "digit =[]\n",
        "digit=[]\n",
        "for i in range (num1, num2+1):\n",
        "    quo = i\n",
        "    while quo>9:\n",
        "        rem = quo%10\n",
        "        quo = quo//10\n",
        "        digit.insert(0,rem)\n",
        "    digit.insert(0,quo)\n",
        "    #print(digit, i)\n",
        "    if i == digit[0]**3+digit[1]**3+digit[2]**3:\n",
        "        print(\"amstrong\", i)\n",
        "    digit=[]"
      ]
    }
  ]
}