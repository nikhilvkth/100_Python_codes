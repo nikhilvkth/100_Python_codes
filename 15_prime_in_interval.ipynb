{
  "nbformat": 4,
  "nbformat_minor": 0,
  "metadata": {
    "colab": {
      "provenance": [],
      "authorship_tag": "ABX9TyPP/wqPJqn7QWtDC4LmWCyJ",
      "include_colab_link": true
    },
    "kernelspec": {
      "name": "python3",
      "display_name": "Python 3"
    },
    "language_info": {
      "name": "python"
    }
  },
  "cells": [
    {
      "cell_type": "markdown",
      "metadata": {
        "id": "view-in-github",
        "colab_type": "text"
      },
      "source": [
        "<a href=\"https://colab.research.google.com/github/nikhilvkth/100_Python_codes/blob/main/15_prime_in_interval.ipynb\" target=\"_parent\"><img src=\"https://colab.research.google.com/assets/colab-badge.svg\" alt=\"Open In Colab\"/></a>"
      ]
    },
    {
      "cell_type": "code",
      "execution_count": 7,
      "metadata": {
        "colab": {
          "base_uri": "https://localhost:8080/"
        },
        "id": "_ah_Wp6K6pbf",
        "outputId": "ce279dc5-d113-4add-d985-f8c2eccf56e3"
      },
      "outputs": [
        {
          "output_type": "stream",
          "name": "stdout",
          "text": [
            "enter the start1\n",
            "enter the end100\n",
            "The numbers are [3, 5, 7, 11, 13, 17, 19, 23, 29, 31, 37, 41, 43, 47, 53, 59, 61, 67, 71, 73, 79, 83, 89, 97]\n"
          ]
        }
      ],
      "source": [
        "num1 = int (input(\"enter the start\"))\n",
        "num2 = int(input(\"enter the end\"))\n",
        "\n",
        "prime =[]\n",
        "for i in range (num1, num2+1):\n",
        "  rem = 0\n",
        "  for j in range (2,i):\n",
        "      rem = i%j\n",
        "      if rem == 0:\n",
        "          break\n",
        "  if rem !=0:\n",
        "      prime.append(i)\n",
        "print(\"The numbers are\", prime)\n",
        ""
      ]
    }
  ]
}