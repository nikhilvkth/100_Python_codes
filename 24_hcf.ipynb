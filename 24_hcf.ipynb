{
  "nbformat": 4,
  "nbformat_minor": 0,
  "metadata": {
    "colab": {
      "provenance": [],
      "authorship_tag": "ABX9TyM85V2+7OWw0zMtUOPI8Qqd",
      "include_colab_link": true
    },
    "kernelspec": {
      "name": "python3",
      "display_name": "Python 3"
    },
    "language_info": {
      "name": "python"
    }
  },
  "cells": [
    {
      "cell_type": "markdown",
      "metadata": {
        "id": "view-in-github",
        "colab_type": "text"
      },
      "source": [
        "<a href=\"https://colab.research.google.com/github/nikhilvkth/100_Python_codes/blob/main/24_hcf.ipynb\" target=\"_parent\"><img src=\"https://colab.research.google.com/assets/colab-badge.svg\" alt=\"Open In Colab\"/></a>"
      ]
    },
    {
      "cell_type": "code",
      "execution_count": null,
      "metadata": {
        "id": "xGb5oOrewNXE"
      },
      "outputs": [],
      "source": [
        "#HCF\n",
        "\n",
        "num = [200,400,350]\n",
        "hcf = [1]\n",
        "\n",
        "for i in range(2,num[0]+1):\n",
        "        if num[0]%i ==0:\n",
        "            if num[1]%i ==0:\n",
        "                if num[2]%i ==0:\n",
        "                    hcf = i\n",
        "print(hcf)\n",
        "\n",
        "\n",
        "\n"
      ]
    }
  ]
}