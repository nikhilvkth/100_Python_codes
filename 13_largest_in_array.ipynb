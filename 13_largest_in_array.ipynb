{
  "nbformat": 4,
  "nbformat_minor": 0,
  "metadata": {
    "colab": {
      "provenance": [],
      "authorship_tag": "ABX9TyMQ5NUWBRwqTkFlpCGR07P+",
      "include_colab_link": true
    },
    "kernelspec": {
      "name": "python3",
      "display_name": "Python 3"
    },
    "language_info": {
      "name": "python"
    }
  },
  "cells": [
    {
      "cell_type": "markdown",
      "metadata": {
        "id": "view-in-github",
        "colab_type": "text"
      },
      "source": [
        "<a href=\"https://colab.research.google.com/github/nikhilvkth/100_Python_codes/blob/main/13_largest_in_array.ipynb\" target=\"_parent\"><img src=\"https://colab.research.google.com/assets/colab-badge.svg\" alt=\"Open In Colab\"/></a>"
      ]
    },
    {
      "cell_type": "code",
      "execution_count": 1,
      "metadata": {
        "colab": {
          "base_uri": "https://localhost:8080/"
        },
        "id": "G0XJulhh4W4D",
        "outputId": "b51e5168-9e22-4c13-a6a2-902103aed680"
      },
      "outputs": [
        {
          "output_type": "stream",
          "name": "stdout",
          "text": [
            "3\n",
            "5\n",
            "6\n",
            "9\n",
            "The largest number is 9\n"
          ]
        }
      ],
      "source": [
        "array = [1,3,5,3,2,6,1,9,7,8]\n",
        "\n",
        "flag =0\n",
        "for i in range (1,len(array)):\n",
        "    if array[i]>flag:\n",
        "        flag = array[i]\n",
        "        print(flag)\n",
        "print(\"The largest number is\", flag)\n",
        ""
      ]
    }
  ]
}