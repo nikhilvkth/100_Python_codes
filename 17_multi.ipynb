{
  "nbformat": 4,
  "nbformat_minor": 0,
  "metadata": {
    "colab": {
      "provenance": [],
      "authorship_tag": "ABX9TyMYXZlipynAXFILwOaCihQ/",
      "include_colab_link": true
    },
    "kernelspec": {
      "name": "python3",
      "display_name": "Python 3"
    },
    "language_info": {
      "name": "python"
    }
  },
  "cells": [
    {
      "cell_type": "markdown",
      "metadata": {
        "id": "view-in-github",
        "colab_type": "text"
      },
      "source": [
        "<a href=\"https://colab.research.google.com/github/nikhilvkth/100_Python_codes/blob/main/17_multi.ipynb\" target=\"_parent\"><img src=\"https://colab.research.google.com/assets/colab-badge.svg\" alt=\"Open In Colab\"/></a>"
      ]
    },
    {
      "cell_type": "code",
      "execution_count": null,
      "metadata": {
        "id": "6wXZsy6KvKVs"
      },
      "outputs": [],
      "source": [
        "#multiplication table\n",
        "num = int (input(\"enter the number\"))\n",
        "\n",
        "count = 1\n",
        "\n",
        "while count <=10:\n",
        "    print(num, \"* \",count, \"=\", num*count)\n",
        "    count +=1"
      ]
    }
  ]
}