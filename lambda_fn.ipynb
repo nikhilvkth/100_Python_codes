{
  "nbformat": 4,
  "nbformat_minor": 0,
  "metadata": {
    "colab": {
      "provenance": [],
      "authorship_tag": "ABX9TyN1XvfsyJfmYDfFpENJhETe",
      "include_colab_link": true
    },
    "kernelspec": {
      "name": "python3",
      "display_name": "Python 3"
    },
    "language_info": {
      "name": "python"
    }
  },
  "cells": [
    {
      "cell_type": "markdown",
      "metadata": {
        "id": "view-in-github",
        "colab_type": "text"
      },
      "source": [
        "<a href=\"https://colab.research.google.com/github/nikhilvkth/100_Python_codes/blob/main/lambda_fn.ipynb\" target=\"_parent\"><img src=\"https://colab.research.google.com/assets/colab-badge.svg\" alt=\"Open In Colab\"/></a>"
      ]
    },
    {
      "cell_type": "code",
      "execution_count": null,
      "metadata": {
        "id": "e3VCeXY1vsW7"
      },
      "outputs": [],
      "source": [
        "#anonymous function\n",
        "x = lambda num: num**2\n",
        "\n",
        "for i in range (2,10):\n",
        "    print(\"2 raised to power\",i,\"is\",x(i))\n",
        ""
      ]
    }
  ]
}