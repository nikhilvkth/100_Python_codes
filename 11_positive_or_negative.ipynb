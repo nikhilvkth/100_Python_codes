{
  "nbformat": 4,
  "nbformat_minor": 0,
  "metadata": {
    "colab": {
      "provenance": [],
      "authorship_tag": "ABX9TyPKDSssIqhhUAehjKDbDqLN",
      "include_colab_link": true
    },
    "kernelspec": {
      "name": "python3",
      "display_name": "Python 3"
    },
    "language_info": {
      "name": "python"
    }
  },
  "cells": [
    {
      "cell_type": "markdown",
      "metadata": {
        "id": "view-in-github",
        "colab_type": "text"
      },
      "source": [
        "<a href=\"https://colab.research.google.com/github/nikhilvkth/100_Python_codes/blob/main/11_positive_or_negative.ipynb\" target=\"_parent\"><img src=\"https://colab.research.google.com/assets/colab-badge.svg\" alt=\"Open In Colab\"/></a>"
      ]
    },
    {
      "cell_type": "code",
      "execution_count": 8,
      "metadata": {
        "colab": {
          "base_uri": "https://localhost:8080/"
        },
        "id": "CA3D8oO3vkz8",
        "outputId": "beb1b2e1-f76d-4947-b2bb-7e8c332d6450"
      },
      "outputs": [
        {
          "output_type": "stream",
          "name": "stdout",
          "text": [
            "enter the input-1\n",
            "The number is negative\n"
          ]
        }
      ],
      "source": [
        "num = int(input(\"enter the input\"))\n",
        "\n",
        "if num ==0:\n",
        "  print(\"The number is zero\")\n",
        "elif num > 0:\n",
        "  print(\"The number is positive\")\n",
        "else:\n",
        "  print(\"The number is negative\")"
      ]
    }
  ]
}