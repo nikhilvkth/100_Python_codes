{
  "nbformat": 4,
  "nbformat_minor": 0,
  "metadata": {
    "colab": {
      "provenance": [],
      "authorship_tag": "ABX9TyPMqh5ZieHWKSbLbxXmmV4J",
      "include_colab_link": true
    },
    "kernelspec": {
      "name": "python3",
      "display_name": "Python 3"
    },
    "language_info": {
      "name": "python"
    }
  },
  "cells": [
    {
      "cell_type": "markdown",
      "metadata": {
        "id": "view-in-github",
        "colab_type": "text"
      },
      "source": [
        "<a href=\"https://colab.research.google.com/github/nikhilvkth/100_Python_codes/blob/main/14_check_for_prime.ipynb\" target=\"_parent\"><img src=\"https://colab.research.google.com/assets/colab-badge.svg\" alt=\"Open In Colab\"/></a>"
      ]
    },
    {
      "cell_type": "code",
      "execution_count": 1,
      "metadata": {
        "colab": {
          "base_uri": "https://localhost:8080/"
        },
        "id": "VxzVtupR4nOl",
        "outputId": "812ce7e0-573a-4634-b20b-0386c627673a"
      },
      "outputs": [
        {
          "output_type": "stream",
          "name": "stdout",
          "text": [
            "enter the number9\n",
            "the number is non prime\n"
          ]
        }
      ],
      "source": [
        "num = int (input(\"enter the number\"))\n",
        "\n",
        "if num <= 0:\n",
        "    print(\"enter positive number\")\n",
        "else:\n",
        "\n",
        "    for i in range (2,num):\n",
        "        rem = num % i\n",
        "        if rem ==0:\n",
        "            print (\"the number is non prime\")\n",
        "            break\n",
        "    if rem!=0:\n",
        "        print(\"the number is prime\")"
      ]
    }
  ]
}