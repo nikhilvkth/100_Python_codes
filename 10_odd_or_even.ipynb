{
  "nbformat": 4,
  "nbformat_minor": 0,
  "metadata": {
    "colab": {
      "provenance": [],
      "authorship_tag": "ABX9TyObqnYVU2vHTSbt8cO76BDN",
      "include_colab_link": true
    },
    "kernelspec": {
      "name": "python3",
      "display_name": "Python 3"
    },
    "language_info": {
      "name": "python"
    }
  },
  "cells": [
    {
      "cell_type": "markdown",
      "metadata": {
        "id": "view-in-github",
        "colab_type": "text"
      },
      "source": [
        "<a href=\"https://colab.research.google.com/github/nikhilvkth/100_Python_codes/blob/main/10_odd_or_even.ipynb\" target=\"_parent\"><img src=\"https://colab.research.google.com/assets/colab-badge.svg\" alt=\"Open In Colab\"/></a>"
      ]
    },
    {
      "cell_type": "code",
      "execution_count": 8,
      "metadata": {
        "colab": {
          "base_uri": "https://localhost:8080/"
        },
        "id": "zeOzl0LUpiiO",
        "outputId": "4dc67648-485d-42d9-94b5-02725808d659"
      },
      "outputs": [
        {
          "output_type": "stream",
          "name": "stdout",
          "text": [
            "enter the number3\n",
            "The number is odd\n"
          ]
        }
      ],
      "source": [
        "num = int(input(\"enter the number\"))\n",
        "\n",
        "\n",
        "rem = num%2\n",
        "\n",
        "if rem == 0:\n",
        "  print(\"The number is even\")\n",
        "else:\n",
        "  print(\"The number is odd\")"
      ]
    }
  ]
}